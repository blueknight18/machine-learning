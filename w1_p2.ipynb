{
 "cells": [
  {
   "cell_type": "code",
   "execution_count": 14,
   "metadata": {
    "collapsed": true
   },
   "outputs": [],
   "source": [
    "import os\n",
    "from six.moves import urllib\n",
    "\n",
    "DOWNLOAD_ROOT = \"http://gauss.vaniercollege.qc.ca/~iti/WSL/\"\n",
    "DATA_PATH = \"data\"\n",
    "DATA_URL = DOWNLOAD_ROOT + DATA_PATH + \"/analysis.csv\"\n",
    "\n",
    "def fetch_data(data_url=DATA_URL, data_path=DATA_PATH):\n",
    "    if not os.path.isdir(data_path):\n",
    "        os.makedirs(data_path)\n",
    "    write_path = os.path.join(data_path, \"analysis.csv\")\n",
    "    urllib.request.urlretrieve(data_url, write_path)\n",
    "    \n",
    "file_path = DATA_PATH + \"/analysis.csv\""
   ]
  },
  {
   "cell_type": "code",
   "execution_count": 15,
   "metadata": {
    "collapsed": true
   },
   "outputs": [],
   "source": [
    "fetch_data()"
   ]
  },
  {
   "cell_type": "code",
   "execution_count": 16,
   "metadata": {
    "collapsed": true
   },
   "outputs": [],
   "source": [
    "import numpy as np\n",
    "\n",
    "data = np.loadtxt(file_path, delimiter=\",\", skiprows=1)"
   ]
  },
  {
   "cell_type": "code",
   "execution_count": 17,
   "metadata": {},
   "outputs": [],
   "source": [
    "x_data = data[:, 1:5] #The x-data corresponds to columns 2,3,4,5"
   ]
  },
  {
   "cell_type": "code",
   "execution_count": 18,
   "metadata": {},
   "outputs": [],
   "source": [
    "data_length = x_data.shape[0]"
   ]
  },
  {
   "cell_type": "code",
   "execution_count": 19,
   "metadata": {
    "collapsed": true
   },
   "outputs": [],
   "source": [
    "y_data = data[:, 0].reshape((data_length,1)) #The y-data corresponds to column 1 (temp anomaly)"
   ]
  },
  {
   "cell_type": "code",
   "execution_count": 20,
   "metadata": {
    "collapsed": true
   },
   "outputs": [],
   "source": [
    "def batch(batch_size): #Defining a batch to be used in the regression analysis\n",
    "    shuffled_indices = np.random.permutation(data_length) #Shuffling the indices of the array\n",
    "    batch_indices = shuffled_indices[:batch_size] #We want the same number of random indices as the batch size\n",
    "    x_batch = x_data[batch_indices,:] #The batch of x as the first 50 in the shuffled order\n",
    "    y_batch = y_data[batch_indices] #The corresponding y values\n",
    "    return x_batch, y_batch"
   ]
  },
  {
   "cell_type": "code",
   "execution_count": 21,
   "metadata": {
    "collapsed": true
   },
   "outputs": [],
   "source": [
    "from datetime import datetime"
   ]
  },
  {
   "cell_type": "code",
   "execution_count": 22,
   "metadata": {
    "collapsed": true
   },
   "outputs": [],
   "source": [
    "now = datetime.utcnow().strftime(\"%Y%m%d%H%M%S\")\n",
    "root_logdir = \"tf_logs\"\n",
    "logdir = \"{}/run-{}/\".format(root_logdir, now)"
   ]
  },
  {
   "cell_type": "code",
   "execution_count": 23,
   "metadata": {
    "collapsed": true
   },
   "outputs": [],
   "source": [
    "import tensorflow as tf"
   ]
  },
  {
   "cell_type": "code",
   "execution_count": 24,
   "metadata": {
    "collapsed": true
   },
   "outputs": [],
   "source": [
    "steps = 5000 #5000 steps to minimize mse\n",
    "\n",
    "x = tf.placeholder(tf. float32, shape=[None, 4]) #Placeholder for the four x values\n",
    "y_true = tf.placeholder(tf.float32, shape=None) #Placeholder for the true y values\n",
    "\n",
    "with tf.name_scope('inference') as scope:\n",
    "    w = tf.Variable([[0],[0],[0],[0]], dtype=tf.float32, name='weights') #Initalizing four weights\n",
    "    b = tf.Variable(0, dtype=tf.float32, name='bias') #Initializing bias\n",
    "    y_pred = tf.matmul(x,w)+b #Prediction as a linear combination of optimal w and b\n",
    "    \n",
    "with tf.name_scope('variance') as scope:\n",
    "    mse = tf.reduce_mean(tf.square(y_true-y_pred)) #Mean squared error\n",
    "    y_mean = tf.reduce_mean(y_true) #Average of the actual y values\n",
    "    mst = tf.reduce_mean(tf.square(y_true-y_mean)) #MST\n",
    "    c_of_determination = 1-mse/mst #R-squared\n",
    "    \n",
    "with tf.name_scope('train') as scope:\n",
    "    learning_rate = 0.1\n",
    "    optimizer = tf.train.GradientDescentOptimizer(learning_rate)\n",
    "    train = optimizer.minimize(mse) #Implementing gradient descent to minimize mean squared error"
   ]
  },
  {
   "cell_type": "code",
   "execution_count": 25,
   "metadata": {
    "collapsed": true
   },
   "outputs": [],
   "source": [
    "init = tf.global_variables_initializer()\n",
    "\n",
    "mse_summary = tf.summary.scalar('MSE', mse) #Keeping track of mean squared error\n",
    "file_writer = tf.summary.FileWriter(logdir, tf.get_default_graph())"
   ]
  },
  {
   "cell_type": "code",
   "execution_count": 35,
   "metadata": {},
   "outputs": [
    {
     "name": "stdout",
     "output_type": "stream",
     "text": [
      "Weights [[ 1.9664433   0.00544963  0.48435163 -0.09918728]] Bias -0.7179 MSE 0.0326\n",
      "\n",
      "Coefficient of Determination 0.23728680610656738\n",
      "\n",
      "Prediction for 2050: 0.629991\n"
     ]
    }
   ],
   "source": [
    "with tf.Session() as sess:\n",
    "    sess.run(init)\n",
    "    for i in range(steps):\n",
    "        x_set, y_set = batch(50) \n",
    "        sess.run(train, feed_dict={x: x_set, y_true: y_set}) #Performing the analysis on a random batch of 50 data points every time\n",
    "        if (i+1) % 50 == 0:\n",
    "            summary_str = mse_summary.eval(feed_dict={x: x_data, y_true: y_data}) #Keeping track of MSE every 50 steps\n",
    "            file_writer.add_summary(summary_str, i) \n",
    "    W, B, MSE, CD = sess.run([w, b, mse, c_of_determination], feed_dict={x: x_data, y_true: y_data}) \n",
    "    #Computing final MSE and R-squared based on the outcome of the 5000 steps of analysis\n",
    "    print(\"Weights {}\".format(W.T), \"Bias {:.4f}\".format(B), \"MSE {:.4f}\".format(MSE))\n",
    "    print(\"\\nCoefficient of Determination {}\".format(CD))\n",
    "    prediction = 0.465*W[0] + 0.077*W[1] + 0.922*W[2] + 0.136*W[3] + B #Using optimal w and b to make prediction\n",
    "    print(\"\\nPrediction for 2050: \" + str(prediction[0]))\n",
    "    file_writer.close()"
   ]
  }
 ],
 "metadata": {
  "kernelspec": {
   "display_name": "Python 3",
   "language": "python",
   "name": "python3"
  },
  "language_info": {
   "codemirror_mode": {
    "name": "ipython",
    "version": 3
   },
   "file_extension": ".py",
   "mimetype": "text/x-python",
   "name": "python",
   "nbconvert_exporter": "python",
   "pygments_lexer": "ipython3",
   "version": "3.6.1"
  }
 },
 "nbformat": 4,
 "nbformat_minor": 2
}
