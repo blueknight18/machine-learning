{
 "cells": [
  {
   "cell_type": "markdown",
   "metadata": {},
   "source": [
    "MNIST via Fully Connected Deep Neural Network with 4 Hidden Layers."
   ]
  },
  {
   "cell_type": "code",
   "execution_count": 1,
   "metadata": {
    "collapsed": true
   },
   "outputs": [],
   "source": [
    "import tensorflow as tf"
   ]
  },
  {
   "cell_type": "code",
   "execution_count": 2,
   "metadata": {
    "collapsed": true
   },
   "outputs": [],
   "source": [
    "tf.reset_default_graph()"
   ]
  },
  {
   "cell_type": "code",
   "execution_count": 3,
   "metadata": {
    "collapsed": true
   },
   "outputs": [],
   "source": [
    "#Input layer (x), hidden layers, output layer\n",
    "n_inputs = 28*28 # = 784\n",
    "n_hidden1 = 400\n",
    "n_hidden2 = 200\n",
    "n_hidden3 = 100\n",
    "n_hidden4 = 50\n",
    "n_outputs = 10"
   ]
  },
  {
   "cell_type": "code",
   "execution_count": 4,
   "metadata": {
    "collapsed": true
   },
   "outputs": [],
   "source": [
    "x = tf.placeholder(tf.float32, shape = (None, n_inputs), name = \"x\") #784-dimensional tensor that can be injected with data, images\n",
    "y = tf.placeholder(tf.int64, shape = (None), name = \"y\") #batch_size vector of class ids"
   ]
  },
  {
   "cell_type": "code",
   "execution_count": 5,
   "metadata": {
    "collapsed": true
   },
   "outputs": [],
   "source": [
    "with tf.name_scope(\"layers\"): #label for this part of the graph, the layers of the neural network\n",
    "    hidden1 = tf.layers.dense(x, n_hidden1, name = \"hidden1\", activation = tf.nn.relu)\n",
    "    #Creates densely connected layer of a neural network which outputs activation(input + bias)\n",
    "    #Takes x (which will be fed) as input and has n_hidden1 units\n",
    "    hidden2 = tf.layers.dense(hidden1, n_hidden2, name = \"hidden2\", activation = tf.nn.relu)\n",
    "    hidden3 = tf.layers.dense(hidden2, n_hidden3, name = \"hidden3\", activation = tf.nn.relu)\n",
    "    hidden4 = tf.layers.dense(hidden3, n_hidden4, name = \"hidden4\", activation = tf.nn.relu)\n",
    "    logits = tf.layers.dense(hidden4, n_outputs, name = \"outputs\")\n",
    "    #Output layer with 10 nodes taking inputs from the fourth hidden layer\n",
    "    #Each layer returns an output tensor (array of outputs of each neuron)"
   ]
  },
  {
   "cell_type": "code",
   "execution_count": 6,
   "metadata": {
    "collapsed": true
   },
   "outputs": [],
   "source": [
    "#Loss function (cross-entropy)\n",
    "with tf.name_scope(\"loss\"):\n",
    "    xentropy = tf.nn.sparse_softmax_cross_entropy_with_logits(labels = y, logits = logits)\n",
    "    loss = tf.reduce_mean(xentropy, name = \"loss\")"
   ]
  },
  {
   "cell_type": "code",
   "execution_count": 7,
   "metadata": {
    "collapsed": true
   },
   "outputs": [],
   "source": [
    "learning_rate = 0.125 #Best learning rate according to my tests\n",
    "\n",
    "with tf.name_scope(\"minimize\"):\n",
    "    optimizer = tf.train.GradientDescentOptimizer(learning_rate) #Implements gradient descent algorithm\n",
    "    train_op = optimizer.minimize(loss) #Minimizes loss by updating variables (weights and threshold)"
   ]
  },
  {
   "cell_type": "code",
   "execution_count": 8,
   "metadata": {
    "collapsed": true
   },
   "outputs": [],
   "source": [
    "with tf.name_scope(\"accuracy\"):\n",
    "    correct = tf.nn.in_top_k(logits, y, 1) \n",
    "    #Says whether the targets are in the top k (1) predictions\n",
    "    #tf.nn.in_top_k(predictions, targets, k)\n",
    "    #Returns a Tensor of type bool\n",
    "    accuracy = tf.reduce_mean(tf.cast(correct, tf.float32)) \n",
    "    #tf.reduce_mean: Computes the mean of elements across dimensions of a tensor\n",
    "    #tf.cast: Casts Tensor to a new type"
   ]
  },
  {
   "cell_type": "code",
   "execution_count": 9,
   "metadata": {
    "collapsed": true
   },
   "outputs": [],
   "source": [
    "init = tf.global_variables_initializer()\n",
    "saver = tf.train.Saver() #Saves model"
   ]
  },
  {
   "cell_type": "code",
   "execution_count": 10,
   "metadata": {},
   "outputs": [
    {
     "name": "stdout",
     "output_type": "stream",
     "text": [
      "Extracting data\\train-images-idx3-ubyte.gz\n",
      "Extracting data\\train-labels-idx1-ubyte.gz\n",
      "Extracting data\\t10k-images-idx3-ubyte.gz\n",
      "Extracting data\\t10k-labels-idx1-ubyte.gz\n"
     ]
    }
   ],
   "source": [
    "from tensorflow.examples.tutorials.mnist import input_data\n",
    "mnist = input_data.read_data_sets(\"data\")"
   ]
  },
  {
   "cell_type": "code",
   "execution_count": 11,
   "metadata": {
    "collapsed": true
   },
   "outputs": [],
   "source": [
    "n_epochs = 20\n",
    "batch_size = 50"
   ]
  },
  {
   "cell_type": "code",
   "execution_count": 12,
   "metadata": {},
   "outputs": [
    {
     "name": "stdout",
     "output_type": "stream",
     "text": [
      "Epoch  0 \tTrain accuracy 0.9800 \tTest accuracy 0.9638\n",
      "Epoch  1 \tTrain accuracy 1.0000 \tTest accuracy 0.9760\n",
      "Epoch  2 \tTrain accuracy 1.0000 \tTest accuracy 0.9678\n",
      "Epoch  3 \tTrain accuracy 1.0000 \tTest accuracy 0.9772\n",
      "Epoch  4 \tTrain accuracy 1.0000 \tTest accuracy 0.9700\n",
      "Epoch  5 \tTrain accuracy 1.0000 \tTest accuracy 0.9825\n",
      "Epoch  6 \tTrain accuracy 1.0000 \tTest accuracy 0.9803\n",
      "Epoch  7 \tTrain accuracy 1.0000 \tTest accuracy 0.9801\n",
      "Epoch  8 \tTrain accuracy 1.0000 \tTest accuracy 0.9806\n",
      "Epoch  9 \tTrain accuracy 1.0000 \tTest accuracy 0.9801\n",
      "Epoch 10 \tTrain accuracy 1.0000 \tTest accuracy 0.9804\n",
      "Epoch 11 \tTrain accuracy 1.0000 \tTest accuracy 0.9820\n",
      "Epoch 12 \tTrain accuracy 1.0000 \tTest accuracy 0.9810\n",
      "Epoch 13 \tTrain accuracy 1.0000 \tTest accuracy 0.9847\n",
      "Epoch 14 \tTrain accuracy 1.0000 \tTest accuracy 0.9855\n",
      "Epoch 15 \tTrain accuracy 1.0000 \tTest accuracy 0.9857\n",
      "Epoch 16 \tTrain accuracy 1.0000 \tTest accuracy 0.9856\n",
      "Epoch 17 \tTrain accuracy 1.0000 \tTest accuracy 0.9857\n",
      "Epoch 18 \tTrain accuracy 1.0000 \tTest accuracy 0.9856\n",
      "Epoch 19 \tTrain accuracy 1.0000 \tTest accuracy 0.9856\n",
      "\n",
      "Final Accuracy 0.9857000112533569\n"
     ]
    }
   ],
   "source": [
    "with tf.Session() as sess:\n",
    "    final_accuracy = 0\n",
    "    init.run()\n",
    "    for epoch in range(n_epochs):\n",
    "        for step in range(mnist.train.num_examples // batch_size): # // means integer division\n",
    "            x_batch, y_batch = mnist.train.next_batch(batch_size) #Batch of images and batch of labels\n",
    "            sess.run(train_op, feed_dict={x: x_batch, y: y_batch}) #Applying gradient descent to batch\n",
    "        acc_train = accuracy.eval(feed_dict={x: x_batch, y: y_batch}) #Accuracy score on training set\n",
    "        acc_test = accuracy.eval(feed_dict={x: mnist.test.images, y: mnist.test.labels}) #Accuracy score on test set\n",
    "        print(\"Epoch {:>2d}\".format(epoch), \"\\tTrain accuracy {:.4f}\".format(acc_train), \n",
    "                                                  \"\\tTest accuracy {:.4f}\".format(acc_test))\n",
    "        if acc_test > final_accuracy:\n",
    "            final_accuracy = acc_test\n",
    "            save_model = saver.save(sess, \"models/my_model_final.ckpt\") #Save the model with the highest accuracy\n",
    "    print(\"\\nFinal Accuracy {}\".format(final_accuracy))"
   ]
  },
  {
   "cell_type": "code",
   "execution_count": 44,
   "metadata": {},
   "outputs": [
    {
     "name": "stdout",
     "output_type": "stream",
     "text": [
      "9286\n"
     ]
    },
    {
     "data": {
      "image/png": "[encoded data removed]",
      "text/plain": [
       "<matplotlib.figure.Figure at 0x1d68b39e9e8>"
      ]
     },
     "metadata": {},
     "output_type": "display_data"
    },
    {
     "name": "stdout",
     "output_type": "stream",
     "text": [
      "8\n"
     ]
    }
   ],
   "source": [
    "%matplotlib inline\n",
    "import numpy as np\n",
    "import matplotlib\n",
    "import matplotlib.pyplot as plt\n",
    "import random\n",
    "\n",
    "len = mnist.test.images.shape[0]\n",
    "index = random.randrange(len)\n",
    "print(index)\n",
    "\n",
    "adigit = mnist.test.images[index]\n",
    "adigit_image = adigit.reshape(28,28)\n",
    "\n",
    "plt.imshow(adigit_image, cmap = matplotlib.cm.binary, interpolation = \"nearest\")\n",
    "plt.axis(\"off\")\n",
    "plt.show()\n",
    "print(mnist.test.labels[index])"
   ]
  },
  {
   "cell_type": "code",
   "execution_count": 45,
   "metadata": {},
   "outputs": [],
   "source": [
    "adigit = adigit.reshape(1,784)"
   ]
  },
  {
   "cell_type": "code",
   "execution_count": 49,
   "metadata": {},
   "outputs": [
    {
     "name": "stdout",
     "output_type": "stream",
     "text": [
      "INFO:tensorflow:Restoring parameters from models/my_model_final.ckpt\n",
      "[8]\n"
     ]
    }
   ],
   "source": [
    "with tf.Session() as sess:\n",
    "    saver.restore(sess, \"models/my_model_final.ckpt\")\n",
    "    pred = tf.argmax(logits, 1)\n",
    "    print(pred.eval(feed_dict = {x: adigit}))"
   ]
  }
 ],
 "metadata": {
  "kernelspec": {
   "display_name": "Python 3",
   "language": "python",
   "name": "python3"
  },
  "language_info": {
   "codemirror_mode": {
    "name": "ipython",
    "version": 3
   },
   "file_extension": ".py",
   "mimetype": "text/x-python",
   "name": "python",
   "nbconvert_exporter": "python",
   "pygments_lexer": "ipython3",
   "version": "3.6.1"
  }
 },
 "nbformat": 4,
 "nbformat_minor": 2
}
