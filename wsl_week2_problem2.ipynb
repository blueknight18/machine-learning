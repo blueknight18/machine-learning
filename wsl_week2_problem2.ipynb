{
 "cells": [
  {
   "cell_type": "code",
   "execution_count": null,
   "metadata": {
    "collapsed": true
   },
   "outputs": [],
   "source": [
    "import os\n",
    "from six.moves import urllib\n",
    "\n",
    "DATA_URL = \"https://www.cs.toronto.edu/~kriz/cifar-10-python.tar.gz\"\n",
    "DATA_PATH = \"data\"\n",
    "\n",
    "def fetch_data(data_url=DATA_URL, data_path=DATA_PATH):\n",
    "    if not os.path.isdir(data_path):\n",
    "        os.makedirs(data_path)\n",
    "    write_path = os.path.join(data_path, \"cifar-10-python.tar.gz\")\n",
    "    urllib.request.urlretrieve(data_url, write_path)\n",
    "    \n",
    "file_path = DATA_PATH + \"/cifar-10-python.tar.gz\""
   ]
  },
  {
   "cell_type": "code",
   "execution_count": null,
   "metadata": {
    "collapsed": true
   },
   "outputs": [],
   "source": [
    "# please be patient, the files might take a while to load\n",
    "fetch_data()"
   ]
  },
  {
   "cell_type": "code",
   "execution_count": null,
   "metadata": {
    "collapsed": true
   },
   "outputs": [],
   "source": [
    "import tarfile\n",
    "\n",
    "TarFile = tarfile.open(\"data/cifar-10-python.tar.gz\", mode=\"r:gz\")\n",
    "TarFile.extractall(\"data/\")"
   ]
  },
  {
   "cell_type": "code",
   "execution_count": null,
   "metadata": {
    "collapsed": true
   },
   "outputs": [],
   "source": [
    "# After the data has beed downloaded and uncompressed please do not execute the commands above again."
   ]
  },
  {
   "cell_type": "code",
   "execution_count": 1,
   "metadata": {
    "collapsed": true
   },
   "outputs": [],
   "source": [
    "import os\n",
    "import numpy as np\n",
    "import matplotlib.pyplot as plt\n",
    "import pickle"
   ]
  },
  {
   "cell_type": "code",
   "execution_count": 2,
   "metadata": {
    "collapsed": true
   },
   "outputs": [],
   "source": [
    "data_path = \"data/cifar-10-batches-py\""
   ]
  },
  {
   "cell_type": "code",
   "execution_count": 3,
   "metadata": {
    "collapsed": true
   },
   "outputs": [],
   "source": [
    "# returns a dict with fields: data and labels\n",
    "def unpickle(file):\n",
    "    with open(os.path.join(data_path, file), 'rb') as fil:\n",
    "        dict = pickle.load(fil, encoding=\"latin1\")\n",
    "    return dict\n",
    "\n",
    "# recodes the labels from integers (in the range 0 to 9), to vectors of length 10 with a single 1\n",
    "def one_hot(vec, vals=10):\n",
    "    n = len(vec)\n",
    "    out = np.zeros((n, vals))\n",
    "    out[range(n), vec] = 1\n",
    "    return out"
   ]
  },
  {
   "cell_type": "code",
   "execution_count": 4,
   "metadata": {},
   "outputs": [
    {
     "data": {
      "text/plain": [
       "array([[ 0.,  0.,  0.,  1.,  0.,  0.,  0.,  0.,  0.,  0.],\n",
       "       [ 0.,  0.,  0.,  0.,  1.,  0.,  0.,  0.,  0.,  0.],\n",
       "       [ 0.,  1.,  0.,  0.,  0.,  0.,  0.,  0.,  0.,  0.],\n",
       "       [ 1.,  0.,  0.,  0.,  0.,  0.,  0.,  0.,  0.,  0.],\n",
       "       [ 0.,  0.,  0.,  0.,  0.,  0.,  0.,  0.,  1.,  0.]])"
      ]
     },
     "execution_count": 4,
     "metadata": {},
     "output_type": "execute_result"
    }
   ],
   "source": [
    "# Here is a demonstration\n",
    "one_hot([3,4,1,0,8])"
   ]
  },
  {
   "cell_type": "code",
   "execution_count": 5,
   "metadata": {
    "collapsed": true
   },
   "outputs": [],
   "source": [
    "class CifarLoader():\n",
    "    def __init__(self, source_files):\n",
    "        self.source = source_files\n",
    "        self.index = 0\n",
    "        self.images = None\n",
    "        self.labels = None\n",
    "        \n",
    "    def load(self):\n",
    "        data = [unpickle(f) for f in self.source]\n",
    "        images = np.vstack([d[\"data\"] for d in data])\n",
    "        length = len(images)\n",
    "        self.images = images.reshape(length, 3, 32, 32).transpose(0, 2, 3, 1).astype(float)/255\n",
    "        self.labels = one_hot(np.hstack([d[\"labels\"] for d in data]))\n",
    "        return self\n",
    "    \n",
    "    def batch(self, batch_size):\n",
    "        x, y = self.images[self.index:self.index+batch_size], self.labels[self.index:self.index+batch_size]\n",
    "        self.index = (self.index + batch_size) % len(self.images)\n",
    "        return x, y"
   ]
  },
  {
   "cell_type": "code",
   "execution_count": 6,
   "metadata": {
    "collapsed": true
   },
   "outputs": [],
   "source": [
    "class CifarDataManager():\n",
    "    def __init__(self):\n",
    "        self.train = CifarLoader([\"data_batch_{}\".format(i) for i in range (1,6)]).load()\n",
    "        self.test = CifarLoader([\"test_batch\"]).load()"
   ]
  },
  {
   "cell_type": "code",
   "execution_count": 7,
   "metadata": {
    "collapsed": true
   },
   "outputs": [],
   "source": [
    "cifar = CifarDataManager()"
   ]
  },
  {
   "cell_type": "code",
   "execution_count": 8,
   "metadata": {},
   "outputs": [
    {
     "name": "stdout",
     "output_type": "stream",
     "text": [
      "Number of train images: 50000\n",
      "Number of test images: 10000\n"
     ]
    }
   ],
   "source": [
    "# Here is how many 32 x 32 x 3 images we have\n",
    "print(\"Number of train images: {}\".format(len(cifar.train.images)))\n",
    "print(\"Number of test images: {}\".format(len(cifar.test.images)))"
   ]
  },
  {
   "cell_type": "markdown",
   "metadata": {},
   "source": [
    "Let's also write a function which will diisplay images in a square: size x size"
   ]
  },
  {
   "cell_type": "code",
   "execution_count": 9,
   "metadata": {
    "collapsed": true
   },
   "outputs": [],
   "source": [
    "def DisplayCifar(images, size):\n",
    "    n = len(images)\n",
    "    plt.figure()\n",
    "    plt.gca().set_axis_off()\n",
    "    ims = np.vstack([np.hstack([images[np.random.choice(n)] for i in range(size)]) for j in range(size)])\n",
    "    plt.imshow(ims)\n",
    "    plt.show()"
   ]
  },
  {
   "cell_type": "code",
   "execution_count": 10,
   "metadata": {},
   "outputs": [
    {
     "data": {
      "image/png": "[encoded data removed]",
      "text/plain": [
       "<matplotlib.figure.Figure at 0x24d5bce6588>"
      ]
     },
     "metadata": {},
     "output_type": "display_data"
    }
   ],
   "source": [
    "DisplayCifar(cifar.train.images, 4) #Images in a 4x4 box"
   ]
  },
  {
   "cell_type": "markdown",
   "metadata": {},
   "source": [
    "We are ready to start building the model. It will have three blocks of convolutional layers."
   ]
  },
  {
   "cell_type": "code",
   "execution_count": 11,
   "metadata": {
    "collapsed": true
   },
   "outputs": [],
   "source": [
    "import tensorflow as tf"
   ]
  },
  {
   "cell_type": "code",
   "execution_count": 12,
   "metadata": {
    "collapsed": true
   },
   "outputs": [],
   "source": [
    "tf.reset_default_graph()"
   ]
  },
  {
   "cell_type": "code",
   "execution_count": null,
   "metadata": {
    "collapsed": true
   },
   "outputs": [],
   "source": [
    "def selu(z,\n",
    "         scale=1.0507009873554804934193349852946,\n",
    "         alpha=1.6732632423543772848170429916717):\n",
    "    return scale * tf.where(z >= 0.0, z, alpha * tf.nn.elu(z)) "
   ]
  },
  {
   "cell_type": "code",
   "execution_count": 13,
   "metadata": {
    "collapsed": true
   },
   "outputs": [],
   "source": [
    "def weight(shape):\n",
    "    ini = tf.truncated_normal(shape, stddev=0.1)\n",
    "    return tf.Variable(ini)\n",
    "\n",
    "def bias(shape):\n",
    "    ini = tf.constant(0.1, shape = shape)\n",
    "    return tf.Variable(ini)\n",
    "\n",
    "def conv_layer(inpu, shape, strides=[1,1,1,1]):\n",
    "    W = weight(shape)\n",
    "    b = bias([shape[3]])\n",
    "    return tf.nn.relu(tf.nn.conv2d(inpu, W, strides=strides, padding=\"SAME\")+b)\n",
    "\n",
    "def fully_connected(inpu, outpu):\n",
    "    W = weight([int(inpu.get_shape()[1]), outpu])\n",
    "    b = bias([outpu])\n",
    "    return tf.matmul(inpu, W) + b"
   ]
  },
  {
   "cell_type": "code",
   "execution_count": 14,
   "metadata": {
    "collapsed": true
   },
   "outputs": [],
   "source": [
    "X = tf.placeholder(tf.float32, shape=[None, 32, 32, 3])\n",
    "y = tf.placeholder(tf.float32, shape=[None,10])\n",
    "keep_prob = tf.placeholder(tf.float32)"
   ]
  },
  {
   "cell_type": "code",
   "execution_count": 15,
   "metadata": {
    "collapsed": true
   },
   "outputs": [],
   "source": [
    "#9 convolution layers, 3 pool layers, 4 dropouts\n",
    "\n",
    "# the first block of convolution layers\n",
    "conv1_1 = conv_layer(X, shape=[3,3,3,32])\n",
    "conv1_2 = conv_layer(conv1_1, shape=[3,3,32,32])\n",
    "conv1_3 = conv_layer(conv1_2, shape=[3,3,32,32])\n",
    "conv1_pool = tf.nn.max_pool(conv1_3, ksize=[1,2,2,1], strides=[1,2,2,1], padding=\"SAME\")\n",
    "conv1_drop = tf.nn.dropout(conv1_pool, keep_prob=keep_prob)\n",
    "\n",
    "# the second block of convolution layers\n",
    "conv2_1 = conv_layer(conv1_drop, shape=[3,3,32,64])\n",
    "conv2_2 = conv_layer(conv2_1, shape=[3,3,64,64])\n",
    "conv2_3 = conv_layer(conv2_2, shape=[3,3,64,64])\n",
    "conv2_pool = tf.nn.max_pool(conv2_3, ksize=[1,2,2,1], strides=[1,2,2,1], padding=\"SAME\")\n",
    "conv2_drop = tf.nn.dropout(conv2_pool, keep_prob=keep_prob)\n",
    "\n",
    "# the third block of convolution layers\n",
    "conv3_1 = conv_layer(conv2_drop, shape=[3,3,64,128])\n",
    "conv3_2 = conv_layer(conv3_1, shape=[3,3,128,128])\n",
    "conv3_3 = conv_layer(conv3_2, shape=[3,3,128,128])\n",
    "conv3_pool = tf.nn.max_pool(conv3_3, ksize=[1,2,2,1], strides=[1,2,2,1], padding=\"SAME\")\n",
    "conv3_drop = tf.nn.dropout(conv3_pool, keep_prob=keep_prob)\n",
    "\n",
    "#ready for fully_connected\n",
    "conv3_flat = tf.reshape(conv3_pool, [-1, 4*4*128])\n",
    "conv3_drop = tf.nn.dropout(conv3_flat, keep_prob = keep_prob)\n",
    "full1 = selu(fully_connected(conv3_flat, 512))\n",
    "full1_drop = tf.nn.dropout(full1,keep_prob=keep_prob)\n",
    "\n",
    "# And finally the logits\n",
    "y_conv = fully_connected(full1_drop, 10)"
   ]
  },
  {
   "cell_type": "code",
   "execution_count": 16,
   "metadata": {
    "collapsed": true
   },
   "outputs": [],
   "source": [
    "xentropy = tf.reduce_mean(tf.nn.softmax_cross_entropy_with_logits(logits=y_conv, labels=y))\n",
    "train = tf.train.AdamOptimizer(1e-4).minimize(xentropy)"
   ]
  },
  {
   "cell_type": "code",
   "execution_count": 17,
   "metadata": {
    "collapsed": true
   },
   "outputs": [],
   "source": [
    "correct = tf.equal(tf.argmax(y_conv, 1), tf.argmax(y, 1))\n",
    "accuracy = tf.reduce_mean(tf.cast(correct, tf.float32))"
   ]
  },
  {
   "cell_type": "code",
   "execution_count": 18,
   "metadata": {
    "collapsed": true
   },
   "outputs": [],
   "source": [
    "steps = 200000 #It takes many steps to converge\n",
    "batch_size = 50\n",
    "\n",
    "final_accuracy = 0\n",
    "saver = tf.train.Saver()"
   ]
  },
  {
   "cell_type": "code",
   "execution_count": 19,
   "metadata": {},
   "outputs": [
    {
     "name": "stdout",
     "output_type": "stream",
     "text": [
      "Step 5000, \tTraining accuracy 0.2400, \tTest accuracy 0.3255\n",
      "Step 10000, \tTraining accuracy 0.3400, \tTest accuracy 0.4334\n",
      "Step 15000, \tTraining accuracy 0.4800, \tTest accuracy 0.5313\n",
      "Step 20000, \tTraining accuracy 0.5000, \tTest accuracy 0.5760\n",
      "Step 25000, \tTraining accuracy 0.5800, \tTest accuracy 0.6271\n",
      "Step 30000, \tTraining accuracy 0.6800, \tTest accuracy 0.6509\n",
      "Step 35000, \tTraining accuracy 0.6600, \tTest accuracy 0.6808\n",
      "Step 40000, \tTraining accuracy 0.7000, \tTest accuracy 0.7126\n",
      "Step 45000, \tTraining accuracy 0.7200, \tTest accuracy 0.7156\n",
      "Step 50000, \tTraining accuracy 0.7400, \tTest accuracy 0.7410\n",
      "Step 55000, \tTraining accuracy 0.8200, \tTest accuracy 0.7449\n",
      "Step 60000, \tTraining accuracy 0.8400, \tTest accuracy 0.7618\n",
      "Step 65000, \tTraining accuracy 0.7800, \tTest accuracy 0.7679\n",
      "Step 70000, \tTraining accuracy 0.8000, \tTest accuracy 0.7657\n",
      "Step 75000, \tTraining accuracy 0.8000, \tTest accuracy 0.7788\n",
      "Step 80000, \tTraining accuracy 0.8600, \tTest accuracy 0.7756\n",
      "Step 85000, \tTraining accuracy 0.8200, \tTest accuracy 0.7856\n",
      "Step 90000, \tTraining accuracy 0.8600, \tTest accuracy 0.7840\n",
      "Step 95000, \tTraining accuracy 0.9000, \tTest accuracy 0.7890\n",
      "Step 100000, \tTraining accuracy 0.9200, \tTest accuracy 0.7966\n",
      "Step 105000, \tTraining accuracy 0.9400, \tTest accuracy 0.8032\n",
      "Step 110000, \tTraining accuracy 0.9200, \tTest accuracy 0.8059\n",
      "Step 115000, \tTraining accuracy 0.9600, \tTest accuracy 0.8092\n",
      "Step 120000, \tTraining accuracy 0.9600, \tTest accuracy 0.8078\n",
      "Step 125000, \tTraining accuracy 0.9400, \tTest accuracy 0.8102\n",
      "Step 130000, \tTraining accuracy 0.9200, \tTest accuracy 0.8114\n",
      "Step 135000, \tTraining accuracy 1.0000, \tTest accuracy 0.8093\n",
      "Step 140000, \tTraining accuracy 0.9800, \tTest accuracy 0.8144\n",
      "Step 145000, \tTraining accuracy 0.9600, \tTest accuracy 0.8140\n",
      "Step 150000, \tTraining accuracy 0.9800, \tTest accuracy 0.8108\n",
      "Step 155000, \tTraining accuracy 1.0000, \tTest accuracy 0.8191\n",
      "Step 160000, \tTraining accuracy 0.9800, \tTest accuracy 0.8188\n",
      "Step 165000, \tTraining accuracy 0.9800, \tTest accuracy 0.8093\n",
      "Step 170000, \tTraining accuracy 1.0000, \tTest accuracy 0.8116\n",
      "Step 175000, \tTraining accuracy 1.0000, \tTest accuracy 0.8136\n",
      "Step 180000, \tTraining accuracy 1.0000, \tTest accuracy 0.8145\n",
      "Step 185000, \tTraining accuracy 1.0000, \tTest accuracy 0.8177\n",
      "Step 190000, \tTraining accuracy 1.0000, \tTest accuracy 0.8158\n",
      "Step 195000, \tTraining accuracy 1.0000, \tTest accuracy 0.8183\n",
      "Step 200000, \tTraining accuracy 1.0000, \tTest accuracy 0.8155\n",
      "\n",
      "Final Accuracy 0.819100022315979\n"
     ]
    }
   ],
   "source": [
    "with tf.Session() as sess:\n",
    "    sess.run(tf.global_variables_initializer())\n",
    "    \n",
    "    for i in range(steps):\n",
    "        batch = cifar.train.batch(batch_size)\n",
    "        sess.run(train, feed_dict={X: batch[0], y: batch[1], keep_prob: 0.5})\n",
    "        \n",
    "        if (i+1) % 5000 == 0:\n",
    "            train_accuracy = sess.run(accuracy, feed_dict={X: batch[0], y: batch[1], keep_prob: 1.0})\n",
    "            test_accuracy = sess.run(accuracy, feed_dict={X: cifar.test.images, y: cifar.test.labels, keep_prob: 1.0})\n",
    "            print(\"Step {}, \\tTraining accuracy {:.4f}, \\tTest accuracy {:.4f}\".format((i+1), train_accuracy, test_accuracy))\n",
    "            \n",
    "            if test_accuracy > final_accuracy:\n",
    "                final_accuracy = test_accuracy\n",
    "                save_model = saver.save(sess, \"models/cifar_final.ckpt\")\n",
    "    \n",
    "    print(\"\\nFinal Accuracy {}\".format(final_accuracy))"
   ]
  },
  {
   "cell_type": "markdown",
   "metadata": {},
   "source": [
    "Let's display a random test image, together with the true and the predicted classifications"
   ]
  },
  {
   "cell_type": "code",
   "execution_count": 20,
   "metadata": {},
   "outputs": [
    {
     "name": "stdout",
     "output_type": "stream",
     "text": [
      "INFO:tensorflow:Restoring parameters from models/cifar_final.ckpt\n",
      "6353\n"
     ]
    },
    {
     "data": {
      "image/png": "[encoded data removed]",
      "text/plain": [
       "<matplotlib.figure.Figure at 0x24d5b06d470>"
      ]
     },
     "metadata": {},
     "output_type": "display_data"
    },
    {
     "name": "stdout",
     "output_type": "stream",
     "text": [
      "True label [ 0.  0.  1.  0.  0.  0.  0.  0.  0.  0.] \n",
      "Predicted probabilities ['0.1485', '0.0004', '0.4473', '0.2271', '0.0001', '0.0010', '0.1687', '0.0000', '0.0067', '0.0001']\n"
     ]
    }
   ],
   "source": [
    "with tf.Session() as sess:\n",
    "    saver.restore(sess, \"models/cifar_final.ckpt\")\n",
    "    index=np.random.randint(0, cifar.test.images.shape[0])\n",
    "    print(index)\n",
    "    \n",
    "    true_label = cifar.test.labels[index]\n",
    "    pred_prob = sess.run(tf.nn.softmax(y_conv), feed_dict={X: np.expand_dims(cifar.test.images[index], axis=0), keep_prob: 1.0})\n",
    "    \n",
    "    plt.figure()\n",
    "    plt.gca().set_axis_off()\n",
    "    plt.imshow(cifar.test.images[index])\n",
    "    plt.show()\n",
    "    \n",
    "    print(\"True label {}\".format(true_label), \"\\nPredicted probabilities\", [\"{:.4f}\".format(i) for i in pred_prob[0, :]])"
   ]
  }
 ],
 "metadata": {
  "kernelspec": {
   "display_name": "Python 3",
   "language": "python",
   "name": "python3"
  },
  "language_info": {
   "codemirror_mode": {
    "name": "ipython",
    "version": 3
   },
   "file_extension": ".py",
   "mimetype": "text/x-python",
   "name": "python",
   "nbconvert_exporter": "python",
   "pygments_lexer": "ipython3",
   "version": "3.6.1"
  }
 },
 "nbformat": 4,
 "nbformat_minor": 2
}
